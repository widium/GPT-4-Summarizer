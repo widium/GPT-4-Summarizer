{
 "cells": [
  {
   "cell_type": "code",
   "execution_count": 1,
   "metadata": {},
   "outputs": [],
   "source": [
    "import openai"
   ]
  },
  {
   "cell_type": "code",
   "execution_count": 2,
   "metadata": {},
   "outputs": [],
   "source": [
    "from pathlib import Path\n",
    "\n",
    "DATA_PATH = Path(\"Project/data\") \n",
    "\n",
    "ROLE_PATH = DATA_PATH / \"role\" / \"role.txt\"\n",
    "CONTENT_PATH = DATA_PATH / \"text\" / \"text.txt\"\n",
    "PRE_PROMPT_PATH = DATA_PATH / \"text\" / \"pre-prompt.txt\"\n",
    "MODEL = \"text-davinci-003\""
   ]
  },
  {
   "cell_type": "code",
   "execution_count": 3,
   "metadata": {},
   "outputs": [
    {
     "data": {
      "text/plain": [
       "'\\n\\nSummary:\\nDr Andrew Huberman, professor of neurobiology and o'"
      ]
     },
     "execution_count": 3,
     "metadata": {},
     "output_type": "execute_result"
    }
   ],
   "source": [
    "from Project.model.core import TextSummarizerModel\n",
    "\n",
    "summarizer = TextSummarizerModel(\n",
    "    model_version=MODEL,\n",
    "    pre_prompt_path=PRE_PROMPT_PATH,\n",
    ")\n",
    "\n",
    "summary = summarizer.summarize(\n",
    "    role_path=ROLE_PATH,\n",
    "    content_path=CONTENT_PATH,\n",
    ")\n",
    "\n",
    "summary"
   ]
  }
 ],
 "metadata": {
  "kernelspec": {
   "display_name": "pytorch_gpu",
   "language": "python",
   "name": "python3"
  },
  "language_info": {
   "codemirror_mode": {
    "name": "ipython",
    "version": 3
   },
   "file_extension": ".py",
   "mimetype": "text/x-python",
   "name": "python",
   "nbconvert_exporter": "python",
   "pygments_lexer": "ipython3",
   "version": "3.8.0"
  },
  "orig_nbformat": 4
 },
 "nbformat": 4,
 "nbformat_minor": 2
}
