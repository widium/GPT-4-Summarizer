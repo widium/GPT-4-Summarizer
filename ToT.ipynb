{
 "cells": [
  {
   "cell_type": "code",
   "execution_count": 1,
   "metadata": {},
   "outputs": [],
   "source": [
    "from Project.model.tree_of_toughts.role import RoleCreator\n",
    "from Project.model.tree_of_toughts.generator import ToughtGenerator\n",
    "from Project.model.tree_of_toughts.evaluator import ToughtEvaluator\n",
    "from Project.model.tree_of_toughts.selector import ToughtSelector\n",
    "\n",
    "from Project.model.tree_of_toughts.core import TreeOfToughtModel\n"
   ]
  },
  {
   "attachments": {},
   "cell_type": "markdown",
   "metadata": {},
   "source": [
    "### Prompt File Path"
   ]
  },
  {
   "cell_type": "code",
   "execution_count": 2,
   "metadata": {},
   "outputs": [
    {
     "data": {
      "text/plain": [
       "(True, True, True, True, True, True, True)"
      ]
     },
     "execution_count": 2,
     "metadata": {},
     "output_type": "execute_result"
    }
   ],
   "source": [
    "from pathlib import Path\n",
    "\n",
    "PROMPT_PATH = Path(\"Project/prompt\") \n",
    "\n",
    "role_path = PROMPT_PATH / \"role\" / \"main_role.txt\"\n",
    "speciality_role_path = PROMPT_PATH / \"role\" / \"summarizer.txt\"\n",
    "init_generator_path = PROMPT_PATH / \"generator\" / \"first_generator.txt\"\n",
    "generator_path = PROMPT_PATH / \"generator\" / \"generator.txt\"\n",
    "evaluator_path = PROMPT_PATH / \"evaluator\" / \"evaluator.txt\"\n",
    "selector_path = PROMPT_PATH / \"evaluator\" / \"selector.txt\"\n",
    "task_path = PROMPT_PATH / \"task\" / \"summarization.txt\"\n",
    "\n",
    "role_path.exists(), generator_path.exists(), evaluator_path.exists(), selector_path.exists(), task_path.exists(), init_generator_path.exists(), speciality_role_path.exists()"
   ]
  },
  {
   "attachments": {},
   "cell_type": "markdown",
   "metadata": {},
   "source": [
    "### Role "
   ]
  },
  {
   "cell_type": "code",
   "execution_count": 3,
   "metadata": {},
   "outputs": [],
   "source": [
    "# from pprint import pprint\n",
    "\n",
    "# creator = RoleCreator(\n",
    "#     main_role_path=role_path,\n",
    "#     speciality_path=speciality_role_path,\n",
    "# )\n",
    "\n",
    "# role = creator()\n",
    "\n",
    "# pprint(role[\"content\"])"
   ]
  },
  {
   "attachments": {},
   "cell_type": "markdown",
   "metadata": {},
   "source": [
    "### Generator"
   ]
  },
  {
   "cell_type": "code",
   "execution_count": 4,
   "metadata": {},
   "outputs": [],
   "source": [
    "# from Project.functions.utils.file import read_content\n",
    "\n",
    "# task = read_content(filepath=task_path)\n",
    "\n",
    "# generator = ToughtGenerator(\n",
    "#     init_prompt_path=init_generator_path,\n",
    "#     generator_prompt_path=generator_path,\n",
    "#     nbr_to_generate=3,\n",
    "# )\n",
    "\n",
    "# first_generation = generator(\n",
    "#     task=task,\n",
    "#     previous_winner=None,\n",
    "# )[\"content\"]\n",
    "\n",
    "# generations = generator(\n",
    "#     task=task,\n",
    "#     previous_winner=\"Test\",\n",
    "# )[\"content\"]\n",
    "\n",
    "# from pprint import pprint \n",
    "\n",
    "# pprint(first_generation)\n",
    "# pprint(generations)"
   ]
  },
  {
   "attachments": {},
   "cell_type": "markdown",
   "metadata": {},
   "source": [
    "### Evaluator"
   ]
  },
  {
   "cell_type": "code",
   "execution_count": 5,
   "metadata": {},
   "outputs": [],
   "source": [
    "# evaluator = ToughtEvaluator(\n",
    "#     prompt_file_path=evaluator_path,\n",
    "# )\n",
    "\n",
    "# selections = evaluator(toughts=\"\"\"\n",
    "#     score_prompt =\n",
    "#     Analyze the following passage, \n",
    "#     then at the last line conclude \"Thus the coherency score is {s}\", \n",
    "#     where s is an integer from 1 to 10.\n",
    "#     \"\"\"\n",
    "# )[\"content\"]\n",
    "\n",
    "# from pprint import pprint \n",
    "\n",
    "# pprint(selections)"
   ]
  },
  {
   "attachments": {},
   "cell_type": "markdown",
   "metadata": {},
   "source": [
    "### Selector"
   ]
  },
  {
   "cell_type": "code",
   "execution_count": 6,
   "metadata": {},
   "outputs": [],
   "source": [
    "# selector = ToughtSelector(\n",
    "#     prompt_file_path=selector_path,\n",
    "# )\n",
    "\n",
    "# selections = selector(toughts=\"\"\"\n",
    "#     score_prompt =\n",
    "#     Analyze the following passage, \n",
    "#     then at the last line conclude \"Thus the coherency score is {s}\", \n",
    "#     where s is an integer from 1 to 10.\n",
    "#     \"\"\"\n",
    "# )[\"content\"]\n",
    "\n",
    "# from pprint import pprint \n",
    "\n",
    "# pprint(selections)"
   ]
  },
  {
   "attachments": {},
   "cell_type": "markdown",
   "metadata": {},
   "source": [
    "### Tree Of Toughts Model"
   ]
  },
  {
   "cell_type": "code",
   "execution_count": 7,
   "metadata": {},
   "outputs": [
    {
     "name": "stdout",
     "output_type": "stream",
     "text": [
      "[INFO] : Project/prompt/role/main_role.txt already exist\n",
      "[INFO] : Project/prompt/role/summarizer.txt already exist\n",
      "[INFO] : Project/prompt/generator/first_generator.txt already exist\n",
      "[INFO] : Project/prompt/generator/generator.txt already exist\n",
      "[INFO] : Project/prompt/evaluator/evaluator.txt already exist\n",
      "[INFO] : Project/prompt/evaluator/selector.txt already exist\n",
      "[INFO] : Project/prompt/task/summarization.txt already exist\n"
     ]
    }
   ],
   "source": [
    "model = TreeOfToughtModel(\n",
    "    model_version=\"gpt-3.5-turbo\",\n",
    "    prompt_path=\"Project/prompt\",\n",
    ")"
   ]
  },
  {
   "cell_type": "code",
   "execution_count": 8,
   "metadata": {},
   "outputs": [
    {
     "name": "stdout",
     "output_type": "stream",
     "text": [
      "\n",
      "---- FIRST SOLUTIONS : ----\n",
      " Solution number 1:\n",
      "\n",
      "1. Andrej Karpathy is a computer scientist who has worked at Tesla and currently works at OpenAI. He specializes in deep learning and computer vision.\n",
      "\n",
      "2. Karpathy was born in Bratislava, Slovakia and moved to Toronto when he was 15. He completed his bachelor's degrees in Computer Science and Physics at the University of Toronto and his master's degree at the University of British Columbia.\n",
      "\n",
      "3. Karpathy received his PhD from Stanford University, where he focused on natural language processing, computer vision, and deep learning models. He was the primary instructor of the first deep learning course at Stanford and is a founding member of OpenAI.\n",
      "\n",
      "Solution number 2:\n",
      "\n",
      "1. Andrej Karpathy is a computer scientist known for his work in artificial intelligence and deep learning. He has worked at Tesla and currently works at OpenAI.\n",
      "\n",
      "2. Karpathy was born in Bratislava, Slovakia and moved to Toronto at the age of 15. He completed his bachelor's degrees in Computer Science and Physics at the University of Toronto and his master's degree at the University of British Columbia.\n",
      "\n",
      "3. Karpathy received his PhD from Stanford University, where he focused on natural language processing, computer vision, and deep learning models. He was the primary instructor of a popular deep learning course at Stanford and is recognized as an innovator in the field.\n",
      "\n",
      "Solution number 3:\n",
      "\n",
      "1. Andrej Karpathy is a computer scientist specializing in deep learning and computer vision. He has worked at Tesla and is currently employed at OpenAI.\n",
      "\n",
      "2. Karpathy was born in Bratislava, Slovakia and moved to Toronto when he was 15. He completed his bachelor's degrees in Computer Science and Physics at the University of Toronto and his master's degree at the University of British Columbia.\n",
      "\n",
      "3. Karpathy received his PhD from Stanford University, where he focused on natural language processing, computer vision, and deep learning models. He has made significant contributions to the field and is recognized for his expertise in artificial intelligence.\n",
      "\n",
      "---- EVALUATION : ----\n",
      " Solution number 1:\n",
      "Success rate: 80%\n",
      "Confidence level: 90%\n",
      "Explanation of solution potential: Andrej Karpathy has a strong background in computer science, deep learning, and computer vision. His experience at Tesla and OpenAI demonstrates his expertise in the field. Implementing his ideas may require some initial effort and implementation difficulty, but the potential outcomes are promising. Challenges may arise in adapting his research to specific applications, but with his knowledge and experience, he is likely to overcome them.\n",
      "Initial Solution Content:\n",
      "\"\"\"\n",
      "1. Andrej Karpathy is a computer scientist who has worked at Tesla and currently works at OpenAI. He specializes in deep learning and computer vision.\n",
      "\n",
      "2. Karpathy was born in Bratislava, Slovakia and moved to Toronto when he was 15. He completed his bachelor's degrees in Computer Science and Physics at the University of Toronto and his master's degree at the University of British Columbia.\n",
      "\n",
      "3. Karpathy received his PhD from Stanford University, where he focused on natural language processing, computer vision, and deep learning models. He was the primary instructor of the first deep learning course at Stanford and is a founding member of OpenAI.\n",
      "\"\"\"\n",
      "\n",
      "Solution number 2:\n",
      "Success rate: 75%\n",
      "Confidence level: 85%\n",
      "Explanation of solution potential: Andrej Karpathy's expertise in artificial intelligence and deep learning makes him a valuable resource for the task. His experience at Tesla and OpenAI showcases his ability to apply his knowledge in practical settings. Implementing his ideas may require some initial effort and implementation difficulty, but the potential outcomes are promising. Challenges may arise in adapting his research to specific applications, but with his expertise, he is likely to overcome them.\n",
      "Initial Solution Content:\n",
      "\"\"\"\n",
      "1. Andrej Karpathy is a computer scientist known for his work in artificial intelligence and deep learning. He has worked at Tesla and currently works at OpenAI.\n",
      "\n",
      "2. Karpathy was born in Bratislava, Slovakia and moved to Toronto at the age of 15. He completed his bachelor's degrees in Computer Science and Physics at the University of Toronto and his master's degree at the University of British Columbia.\n",
      "\n",
      "3. Karpathy received his PhD from Stanford University, where he focused on natural language processing, computer vision, and deep learning models. He was the primary instructor of a popular deep learning course at Stanford and is recognized as an innovator in the field.\n",
      "\"\"\"\n",
      "\n",
      "Solution number 3:\n",
      "Success rate: 70%\n",
      "Confidence level: 80%\n",
      "Explanation of solution potential: Andrej Karpathy's specialization in deep learning and computer vision makes him a valuable asset for the task. His experience at Tesla and OpenAI demonstrates his ability to apply his expertise in real-world scenarios. Implementing his ideas may require some initial effort and implementation difficulty, but the potential outcomes are promising. Challenges may arise in adapting his research to specific applications, but with his knowledge and contributions to the field, he is likely to overcome them.\n",
      "Initial Solution Content:\n",
      "\"\"\"\n",
      "1. Andrej Karpathy is a computer scientist specializing in deep learning and computer vision. He has worked at Tesla and is currently employed at OpenAI.\n",
      "\n",
      "2. Karpathy was born in Bratislava, Slovakia and moved to Toronto when he was 15. He completed his bachelor's degrees in Computer Science and Physics at the University of Toronto and his master's degree at the University of British Columbia.\n",
      "\n",
      "3. Karpathy received his PhD from Stanford University, where he focused on natural language processing, computer vision, and deep learning models. He has made significant contributions to the field and is recognized for his expertise in artificial intelligence.\n",
      "\"\"\"\n",
      "\n",
      "Explanation for why it's the best: Solution number 1 is the best because it has the highest success rate and confidence level. Andrej Karpathy's background in computer science, deep learning, and computer vision, along with his experience at Tesla and OpenAI, make him a highly qualified candidate for the task. The potential outcomes of implementing his ideas are promising, and while there may be some challenges, his expertise and knowledge in the field make him well-equipped to overcome them.\n",
      "\n",
      "Solution information:\n",
      "Solution number 1\n",
      "Success rate: 80%\n",
      "Confidence level: 90%\n",
      "Explanation of solution potential: Andrej Karpathy has a strong background in computer science, deep learning, and computer vision. His experience at Tesla and OpenAI demonstrates his expertise in the field. Implementing his ideas may require some initial effort and implementation difficulty, but the potential outcomes are promising. Challenges may arise in adapting his research to specific applications, but with his knowledge and experience, he is likely to overcome them.\n",
      "Initial Solution Content:\n",
      "\"\"\"\n",
      "1. Andrej Karpathy is a computer scientist who has worked at Tesla and currently works at OpenAI. He specializes in deep learning and computer vision.\n",
      "\n",
      "2. Karpathy was born in Bratislava, Slovakia and moved to Toronto when he was 15. He completed his bachelor's degrees in Computer Science and Physics at the University of Toronto and his master's degree at the University of British Columbia.\n",
      "\n",
      "3. Karpathy received his PhD from Stanford University, where he focused on natural language processing, computer vision, and deep learning models. He was the primary instructor of the first deep learning course at Stanford and is a founding member of OpenAI.\n",
      "\"\"\"\n",
      "\n",
      "---- SELECTION: ----\n",
      " Solution number 1:\n",
      "Explanation for why it's the best: Solution number 1 is the best because it has the highest success rate and confidence level. Andrej Karpathy's background in computer science, deep learning, and computer vision, along with his experience at Tesla and OpenAI, make him a highly qualified candidate for the task. The potential outcomes of implementing his ideas are promising, and while there may be some challenges, his expertise and knowledge in the field make him well-equipped to overcome them.\n",
      "\n",
      "Solution information:\n",
      "Solution number 1\n",
      "Success rate: 80%\n",
      "Confidence level: 90%\n",
      "Explanation of solution potential: Andrej Karpathy has a strong background in computer science, deep learning, and computer vision. His experience at Tesla and OpenAI demonstrates his expertise in the field. Implementing his ideas may require some initial effort and implementation difficulty, but the potential outcomes are promising. Challenges may arise in adapting his research to specific applications, but with his knowledge and experience, he is likely to overcome them.\n",
      "Initial Solution Content:\n",
      "\"\"\"\n",
      "1. Andrej Karpathy is a computer scientist who has worked at Tesla and currently works at OpenAI. He specializes in deep learning and computer vision.\n",
      "\n",
      "2. Karpathy was born in Bratislava, Slovakia and moved to Toronto when he was 15. He completed his bachelor's degrees in Computer Science and Physics at the University of Toronto and his master's degree at the University of British Columbia.\n",
      "\n",
      "3. Karpathy received his PhD from Stanford University, where he focused on natural language processing, computer vision, and deep learning models. He was the primary instructor of the first deep learning course at Stanford and is a founding member of OpenAI.\n",
      "\"\"\"\n"
     ]
    }
   ],
   "source": [
    "content = \"\"\"\n",
    "Andrej Karpathy (born 23 October 1986[1]) is a Slovak-Canadian computer scientist who served as the director of artificial intelligence and Autopilot Vision at Tesla. He currently works for OpenAI,[2][3][4] where he specializes in deep learning and computer vision.[5][6]\n",
    "\n",
    "Biography\n",
    "Karpathy was born in Bratislava, Czechoslovakia (now Slovakia)[7][8][9][10] and moved with his family to Toronto when he was 15.[11] He completed his Computer Science and Physics bachelor's degrees at University of Toronto in 2009[12] and his master's degree at University of British Columbia in 2011,[12] where he worked on physically-simulated figures (for example, a simulated runner or a simulated person in a crowd).\n",
    "\n",
    "Karpathy received a PhD from Stanford University in 2015 under the supervision of Fei-Fei Li, focusing on the intersection of natural language processing and computer vision, and deep learning models suited for this task.[13] He authored and was the primary instructor of the first deep learning course at Stanford, CS 231n: Convolutional Neural Networks for Visual Recognition.[14] It became one of the largest classes at Stanford, growing from 150 students in 2015 to 750 in 2017.[15]\n",
    "\n",
    "Karpathy is a founding member of the artificial intelligence research group OpenAI,[16][17] where he was a research scientist from 2015 to 2017.[15] In June 2017 he became Tesla's director of artificial intelligence.[6][18] He was named one of MIT Technology Review's Innovators Under 35 for 2020.[19] After taking a several months-long sabbatical from Tesla, he announced he was leaving the company in July 2022.[20] As of February 2023, he makes YouTube videos on how to create artificial neural networks.[21]\n",
    "\n",
    "In February 2023, Karpathy announced he was returning to OpenAI.[22]\n",
    "\"\"\"\n",
    "\n",
    "messages = model.reasoning(content=content)\n",
    "\n",
    "# pprint(messages)"
   ]
  },
  {
   "cell_type": "code",
   "execution_count": null,
   "metadata": {},
   "outputs": [],
   "source": []
  }
 ],
 "metadata": {
  "kernelspec": {
   "display_name": "pytorch_gpu",
   "language": "python",
   "name": "python3"
  },
  "language_info": {
   "codemirror_mode": {
    "name": "ipython",
    "version": 3
   },
   "file_extension": ".py",
   "mimetype": "text/x-python",
   "name": "python",
   "nbconvert_exporter": "python",
   "pygments_lexer": "ipython3",
   "version": "3.8.0"
  },
  "orig_nbformat": 4
 },
 "nbformat": 4,
 "nbformat_minor": 2
}
